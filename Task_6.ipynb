{
 "cells": [
  {
   "cell_type": "raw",
   "metadata": {},
   "source": [
    "Create a program that perform below mentioned task upon recognizing a particular face. \n",
    "\n",
    "1.When it recognize your face then\n",
    "    It send mail to your mail id\n",
    "    Second it send whatsapp message to your friend, it can be anything. \n",
    "2.When it detect second face, it can be your friend or family members face.\n",
    "    Create EC2 instance in the AWS using CLI. \n",
    "    Create 5 GB EBS volume and attach it to the instance. "
   ]
  },
  {
   "cell_type": "markdown",
   "metadata": {},
   "source": [
    "\n",
    "### Step 1 - Create Training Data"
   ]
  },
  {
   "cell_type": "code",
   "execution_count": null,
   "metadata": {},
   "outputs": [],
   "source": [
    "import cv2\n",
    "import numpy as np\n",
    "\n",
    "# Load HAAR face classifier\n",
    "face_classifier = cv2.CascadeClassifier('haarcascade_frontalface_default.xml')\n",
    "\n",
    "# Load functions\n",
    "def face_extractor(img):\n",
    "    # Function detects faces and returns the cropped face\n",
    "    # If no face detected, it returns the input image\n",
    "    \n",
    "    gray = cv2.cvtColor(img,cv2.COLOR_BGR2GRAY)\n",
    "    faces = face_classifier.detectMultiScale(gray, 1.3, 5)\n",
    "    \n",
    "    if faces is ():\n",
    "        return None\n",
    "    \n",
    "    # Crop all faces found\n",
    "    for (x,y,w,h) in faces:\n",
    "        cropped_face = img[y:y+h, x:x+w]\n",
    "\n",
    "    return cropped_face\n",
    "\n",
    "# Initialize Webcam\n",
    "cap = cv2.VideoCapture(0)\n",
    "count = 0\n",
    "\n",
    "# Collect 100 samples of your face from webcam input\n",
    "while True:\n",
    "\n",
    "    ret, frame = cap.read()\n",
    "    if face_extractor(frame) is not None:\n",
    "        count += 1\n",
    "        face = cv2.resize(face_extractor(frame), (200, 200))\n",
    "        face = cv2.cvtColor(face, cv2.COLOR_BGR2GRAY)\n",
    "\n",
    "        # Save file in specified directory with unique name\n",
    "        file_name_path = 'D:/LW/Tasks/TASK 6/face1/' +'face'+str(count) + '.jpg'\n",
    "        #print(file_name_path)\n",
    "        cv2.imwrite(file_name_path, face)\n",
    "\n",
    "        # Put count on images and display live count\n",
    "        cv2.putText(face, str(count), (50, 50), cv2.FONT_HERSHEY_COMPLEX, 1, (0,255,0), 2)\n",
    "        cv2.imshow('Face Cropper', face)\n",
    "        \n",
    "    else:\n",
    "        print(\"Face not found\")\n",
    "        pass\n",
    "\n",
    "    if cv2.waitKey(1) == 13 or count == 100: #13 is the Enter Key\n",
    "        break\n",
    "        \n",
    "cap.release()\n",
    "cv2.destroyAllWindows()      \n",
    "print(\"Collecting Samples Complete\")"
   ]
  },
  {
   "cell_type": "markdown",
   "metadata": {},
   "source": [
    "### Step 2 - Train Model"
   ]
  },
  {
   "cell_type": "code",
   "execution_count": null,
   "metadata": {},
   "outputs": [],
   "source": [
    "cap.release()"
   ]
  },
  {
   "cell_type": "code",
   "execution_count": null,
   "metadata": {},
   "outputs": [],
   "source": [
    "import cv2\n",
    "import numpy as np\n",
    "from os import listdir\n",
    "from os.path import isfile, join\n",
    "\n",
    "# Get the training data we previously made\n",
    "data_path = 'D:/LW/Tasks/TASK 6/face1/'\n",
    "onlyfiles = [f for f in listdir(data_path) if isfile(join(data_path, f))]\n",
    "\n",
    "# Create arrays for training data and labels\n",
    "Training_Data, Labels = [], []\n",
    "\n",
    "# Open training images in our datapath\n",
    "# Create a numpy array for training data\n",
    "for i, files in enumerate(onlyfiles):\n",
    "    image_path = data_path+onlyfiles[i]\n",
    "    images = cv2.imread(image_path, cv2.IMREAD_GRAYSCALE)\n",
    "    Training_Data.append(np.array(images,'uint8'))\n",
    "    Labels.append(i)\n",
    "\n",
    "# Create a numpy array for both training data and labels\n",
    "Labels = np.asarray(Labels, dtype=np.int32)\n",
    "\n",
    "# Initialize facial recognizer\n",
    "#model = cv2.face.createLBPHFaceRecognizer()\n",
    "# NOTE: For OpenCV 3.0 use cv2.face.createLBPHFaceRecognizer()\n",
    "# pip install opencv-contrib-python\n",
    "# model = cv2.createLBPHFaceRecognizer()\n",
    "\n",
    "#vimal_model  = cv2.face_LBPHFaceRecognizer.create()\n",
    "model=cv2.face.LBPHFaceRecognizer_create()\n",
    "# Let's train our model \n",
    "model.train(Training_Data,Labels)\n",
    "print(\"Model trained successfully\")"
   ]
  },
  {
   "cell_type": "code",
   "execution_count": null,
   "metadata": {},
   "outputs": [],
   "source": [
    "#to send email when your face is detected\n",
    "import smtplib\n",
    "\n",
    "def email():\n",
    "    sender = 'xxx.yyy@gmail.com'\n",
    "    receivers ='xxx.yyy@gmail.com'\n",
    "\n",
    "    message = 'hi divija your face is detected'\n",
    "\n",
    "\n",
    "    s = smtplib.SMTP(host='smtp.gmail.com', port=587)\n",
    "    s.starttls()\n",
    "    s.login('xxx.yyy@gmail.com','xxxx')\n",
    "    s.sendmail(sender, receivers,message)\n",
    "    print('email sent successfully')"
   ]
  },
  {
   "cell_type": "code",
   "execution_count": null,
   "metadata": {},
   "outputs": [],
   "source": [
    "#to send whatsapp message when your face is detected\n",
    "import pywhatkit as pw\n",
    "def whatsapp_msg():\n",
    "    pw.sendwhatmsg_instantly(\"+91{xxxxxxxxxx}\",\"hi divija\")\n",
    "    print('whatsapp message sent successfully')"
   ]
  },
  {
   "cell_type": "code",
   "execution_count": null,
   "metadata": {},
   "outputs": [],
   "source": [
    "# create a new EC2 instance\n",
    "\n",
    "import boto3\n",
    "ec2 = boto3.resource('ec2')\n",
    "\n",
    "def launch_instance():\n",
    "    instances = ec2.create_instances(\n",
    "         ImageId='ami-0ad704c126371a549',\n",
    "         MinCount=1,\n",
    "         MaxCount=1,\n",
    "         InstanceType='t2.micro',\n",
    "         KeyName='keyec2'\n",
    "     )\n",
    "    print(\"successfully created instance\")"
   ]
  },
  {
   "cell_type": "code",
   "execution_count": null,
   "metadata": {},
   "outputs": [],
   "source": [
    "#create new volume\n",
    "def create_volume(ap):\n",
    "    ebs_vol = ec2.create_volume(\n",
    "            Size=5,\n",
    "            AvailabilityZone=ap\n",
    "        )\n",
    "    print(\"successfully created volume\")"
   ]
  },
  {
   "cell_type": "code",
   "execution_count": null,
   "metadata": {},
   "outputs": [],
   "source": [
    "def stop_instance():\n",
    "    print(\"enter instance id\")\n",
    "    instance_id=input()\n",
    "    os.system(\"aws ec2 stop-instances --instance-ids \"+instance_id+\"\")\n",
    "    print(\"successfully stopped instance\")"
   ]
  },
  {
   "cell_type": "code",
   "execution_count": null,
   "metadata": {},
   "outputs": [],
   "source": [
    "import boto3\n",
    "client = boto3.client('ec2')\n",
    "def attach_volume():\n",
    "    print(\"enter instance id\")\n",
    "    instance_id=input()\n",
    "    print(\"enter volume id\")\n",
    "    volume_id=input()\n",
    "    result = client.attach_volume(VolumeId=volume_id,InstanceId=instance_id,Device='/dev/xvdi')\n",
    "    print(\"successfully attached volume\")"
   ]
  },
  {
   "cell_type": "markdown",
   "metadata": {},
   "source": [
    "### Step 3 - Run Our Facial Recognition"
   ]
  },
  {
   "cell_type": "code",
   "execution_count": null,
   "metadata": {},
   "outputs": [],
   "source": [
    "import cv2\n",
    "import numpy as np\n",
    "import os\n",
    "\n",
    "\n",
    "face_classifier = cv2.CascadeClassifier('haarcascade_frontalface_default.xml')\n",
    "\n",
    "def face_detector(img, size=0.5):\n",
    "    \n",
    "    # Convert image to grayscale\n",
    "    gray = cv2.cvtColor(img,cv2.COLOR_BGR2GRAY)\n",
    "    faces = face_classifier.detectMultiScale(gray, 1.3, 5)\n",
    "    if faces is ():\n",
    "        return img, []\n",
    "    \n",
    "    \n",
    "    for (x,y,w,h) in faces:\n",
    "        cv2.rectangle(img,(x,y),(x+w,y+h),(0,255,255),2)\n",
    "        roi = img[y:y+h, x:x+w]\n",
    "        roi = cv2.resize(roi, (200, 200))\n",
    "    return img, roi"
   ]
  },
  {
   "cell_type": "code",
   "execution_count": null,
   "metadata": {},
   "outputs": [],
   "source": [
    "def display_image(image):\n",
    "    cv2.imshow('Face Recognition', image )\n",
    "    cv2.waitKey()\n",
    "    cv2.destroyAllWindows()"
   ]
  },
  {
   "cell_type": "code",
   "execution_count": null,
   "metadata": {},
   "outputs": [],
   "source": [
    "# Open Webcam\n",
    "#cap = cv2.VideoCapture(0)\n",
    "#while True:\n",
    "    #ret, frame = cap.read()\n",
    "photo=input(\"enter the location of the image\")\n",
    "frame=cv2.imread(photo)\n",
    "display_image(frame)\n",
    "image, face = face_detector(frame)\n",
    "try:\n",
    "    face = cv2.cvtColor(face, cv2.COLOR_BGR2GRAY)\n",
    "    # \"results\" comprises of a tuple containing the label and the confidence value\n",
    "    results = model.predict(face)\n",
    "    if results[1] < 500:\n",
    "        confidence = int( 100 * (1 - (results[1])/400) )\n",
    "        display_string = str(confidence) + '% Confident it is User'\n",
    "        \n",
    "    cv2.putText(image, display_string, (100, 120), cv2.FONT_HERSHEY_COMPLEX, 1, (255,120,150), 2)\n",
    "    if confidence > 80:\n",
    "        cv2.putText(image, \"Hi Divija\", (250, 450), cv2.FONT_HERSHEY_COMPLEX, 1, (0,255,0), 2)\n",
    "        display_image(image)\n",
    "        email()\n",
    "        whatsapp_msg()\n",
    "    else:\n",
    "        cv2.putText(image, \"I dont know, how r u\", (250, 450), cv2.FONT_HERSHEY_COMPLEX, 1, (0,0,255), 2)\n",
    "        display_image(image)\n",
    "        launch_instance()\n",
    "        ap=input(\"enter availability zone\")\n",
    "        create_volume(ap)\n",
    "        stop_instance()\n",
    "        attach_volume()\n",
    "except:\n",
    "        cv2.putText(image, \"No Face Found\", (220, 120) , cv2.FONT_HERSHEY_COMPLEX, 1, (0,0,255), 2)\n",
    "        cv2.putText(image, \"looking for face\", (250, 450), cv2.FONT_HERSHEY_COMPLEX, 1, (0,0,255), 2)\n",
    "        display_image(image)\n",
    "        pass"
   ]
  },
  {
   "cell_type": "code",
   "execution_count": null,
   "metadata": {},
   "outputs": [],
   "source": [
    "# Open Webcam\n",
    "#cap = cv2.VideoCapture(0)\n",
    "#while True:\n",
    "    #ret, frame = cap.read()\n",
    "photo=input(\"enter the location of the image\")\n",
    "frame=cv2.imread(photo)\n",
    "display_image(frame)\n",
    "image, face = face_detector(frame)\n",
    "try:\n",
    "    face = cv2.cvtColor(face, cv2.COLOR_BGR2GRAY)\n",
    "    # \"results\" comprises of a tuple containing the label and the confidence value\n",
    "    results = model.predict(face)\n",
    "    if results[1] < 500:\n",
    "        confidence = int( 100 * (1 - (results[1])/400) )\n",
    "        display_string = str(confidence) + '% Confident it is User'\n",
    "        \n",
    "    cv2.putText(image, display_string, (100, 120), cv2.FONT_HERSHEY_COMPLEX, 1, (255,120,150), 2)\n",
    "    if confidence > 80:\n",
    "        cv2.putText(image, \"Hi Divija\", (250, 450), cv2.FONT_HERSHEY_COMPLEX, 1, (0,255,0), 2)\n",
    "        display_image(image)\n",
    "        email()\n",
    "        whatsapp_msg()\n",
    "    else:\n",
    "        cv2.putText(image, \"I dont know, how r u\", (250, 450), cv2.FONT_HERSHEY_COMPLEX, 1, (0,0,255), 2)\n",
    "        display_image(image)\n",
    "        launch_instance()\n",
    "        ap=input(\"enter availability zone\")\n",
    "        create_volume(ap)\n",
    "        stop_instance()\n",
    "        attach_volume()\n",
    "except:\n",
    "        cv2.putText(image, \"No Face Found\", (220, 120) , cv2.FONT_HERSHEY_COMPLEX, 1, (0,0,255), 2)\n",
    "        cv2.putText(image, \"looking for face\", (250, 450), cv2.FONT_HERSHEY_COMPLEX, 1, (0,0,255), 2)\n",
    "        display_image(image)\n",
    "        pass"
   ]
  },
  {
   "cell_type": "code",
   "execution_count": null,
   "metadata": {},
   "outputs": [],
   "source": [
    "#cap.release()"
   ]
  },
  {
   "cell_type": "code",
   "execution_count": null,
   "metadata": {},
   "outputs": [],
   "source": [
    "# D:/LW/Tasks/TASK 6/divija_photo.jpg"
   ]
  },
  {
   "cell_type": "code",
   "execution_count": null,
   "metadata": {},
   "outputs": [],
   "source": [
    "# D:/LW/Tasks/TASK 6/teja_photo.jpg"
   ]
  },
  {
   "cell_type": "code",
   "execution_count": null,
   "metadata": {},
   "outputs": [],
   "source": []
  }
 ],
 "metadata": {
  "kernelspec": {
   "display_name": "Python 3",
   "language": "python",
   "name": "python3"
  },
  "language_info": {
   "codemirror_mode": {
    "name": "ipython",
    "version": 3
   },
   "file_extension": ".py",
   "mimetype": "text/x-python",
   "name": "python",
   "nbconvert_exporter": "python",
   "pygments_lexer": "ipython3",
   "version": "3.7.6"
  }
 },
 "nbformat": 4,
 "nbformat_minor": 1
}
